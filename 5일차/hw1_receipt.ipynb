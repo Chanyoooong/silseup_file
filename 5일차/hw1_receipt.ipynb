{
 "cells": [
  {
   "cell_type": "code",
   "execution_count": 20,
   "id": "927d7e52",
   "metadata": {},
   "outputs": [],
   "source": [
    "lovely_loveseat_description = 'Lovely Loveseat. Tufted polyester blend on wood. 32 inches high x 40 inches wide x 30 inches deep. Red or white.'"
   ]
  },
  {
   "cell_type": "code",
   "execution_count": 21,
   "id": "495242bf",
   "metadata": {},
   "outputs": [],
   "source": [
    "lovely_loveseat_price = 254.00"
   ]
  },
  {
   "cell_type": "code",
   "execution_count": 22,
   "id": "5c0d1afe",
   "metadata": {},
   "outputs": [],
   "source": [
    "stylish_settee_description = 'Stylish Settee. Faux leather on birch. 29.50 inches high x 54.75 inches wide x 28 inches deep. Black.'"
   ]
  },
  {
   "cell_type": "code",
   "execution_count": 23,
   "id": "98c7c95f",
   "metadata": {},
   "outputs": [],
   "source": [
    "stylish_settee_price = 180.50"
   ]
  },
  {
   "cell_type": "code",
   "execution_count": 24,
   "id": "b1a3ed66",
   "metadata": {},
   "outputs": [],
   "source": [
    "luxurious_lamp_description = 'Luxurious Lamp. Glass and iron. 36 inches tall. Brown with cream shade.'"
   ]
  },
  {
   "cell_type": "code",
   "execution_count": 25,
   "id": "bed00dd4",
   "metadata": {},
   "outputs": [],
   "source": [
    "luxurious_lamp_price = 52.15"
   ]
  },
  {
   "cell_type": "code",
   "execution_count": 26,
   "id": "564b7b42",
   "metadata": {},
   "outputs": [],
   "source": [
    "sales_tax = 0.088"
   ]
  },
  {
   "cell_type": "code",
   "execution_count": 27,
   "id": "46ea29e5",
   "metadata": {},
   "outputs": [],
   "source": [
    "customer_one_total = 0.0"
   ]
  },
  {
   "cell_type": "code",
   "execution_count": 28,
   "id": "9e021a60",
   "metadata": {},
   "outputs": [],
   "source": [
    "customer_one_itemization = ''"
   ]
  },
  {
   "cell_type": "code",
   "execution_count": 29,
   "id": "fc7dfc57",
   "metadata": {},
   "outputs": [],
   "source": [
    "customer_one_total += lovely_loveseat_price"
   ]
  },
  {
   "cell_type": "code",
   "execution_count": 30,
   "id": "0c7fe424",
   "metadata": {},
   "outputs": [],
   "source": [
    "customer_one_itemization += lovely_loveseat_description"
   ]
  },
  {
   "cell_type": "code",
   "execution_count": 31,
   "id": "1463c649",
   "metadata": {},
   "outputs": [],
   "source": [
    "customer_one_total += luxurious_lamp_price"
   ]
  },
  {
   "cell_type": "code",
   "execution_count": 32,
   "id": "cd3cdbb9",
   "metadata": {},
   "outputs": [],
   "source": [
    "customer_one_itemization += luxurious_lamp_description"
   ]
  },
  {
   "cell_type": "code",
   "execution_count": 33,
   "id": "37cbfe21",
   "metadata": {},
   "outputs": [],
   "source": [
    "customer_one_tax = customer_one_total * sales_tax"
   ]
  },
  {
   "cell_type": "code",
   "execution_count": 34,
   "id": "8c74053c",
   "metadata": {},
   "outputs": [],
   "source": [
    "customer_one_total += customer_one_tax"
   ]
  },
  {
   "cell_type": "code",
   "execution_count": 35,
   "id": "0d78be2f",
   "metadata": {},
   "outputs": [
    {
     "name": "stdout",
     "output_type": "stream",
     "text": [
      "Customer One Items:\n"
     ]
    }
   ],
   "source": [
    "print(\"Customer One Items:\")"
   ]
  },
  {
   "cell_type": "code",
   "execution_count": 36,
   "id": "5483fc5d",
   "metadata": {},
   "outputs": [
    {
     "name": "stdout",
     "output_type": "stream",
     "text": [
      "Lovely Loveseat. Tufted polyester blend on wood. 32 inches high x 40 inches wide x 30 inches deep. Red or white.Luxurious Lamp. Glass and iron. 36 inches tall. Brown with cream shade.\n"
     ]
    }
   ],
   "source": [
    "print(customer_one_itemization)"
   ]
  },
  {
   "cell_type": "code",
   "execution_count": 37,
   "id": "f7030af3",
   "metadata": {},
   "outputs": [
    {
     "name": "stdout",
     "output_type": "stream",
     "text": [
      "Customer One Total:\n"
     ]
    }
   ],
   "source": [
    "print(\"Customer One Total:\")"
   ]
  },
  {
   "cell_type": "code",
   "execution_count": 38,
   "id": "8ab04b4f",
   "metadata": {},
   "outputs": [
    {
     "name": "stdout",
     "output_type": "stream",
     "text": [
      "333.09119999999996\n"
     ]
    }
   ],
   "source": [
    "print(customer_one_total)"
   ]
  },
  {
   "cell_type": "code",
   "execution_count": null,
   "id": "945924a9",
   "metadata": {},
   "outputs": [],
   "source": []
  }
 ],
 "metadata": {
  "kernelspec": {
   "display_name": "Python 3 (ipykernel)",
   "language": "python",
   "name": "python3"
  },
  "language_info": {
   "codemirror_mode": {
    "name": "ipython",
    "version": 3
   },
   "file_extension": ".py",
   "mimetype": "text/x-python",
   "name": "python",
   "nbconvert_exporter": "python",
   "pygments_lexer": "ipython3",
   "version": "3.9.7"
  }
 },
 "nbformat": 4,
 "nbformat_minor": 5
}

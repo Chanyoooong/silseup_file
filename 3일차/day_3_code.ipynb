{
 "cells": [
  {
   "cell_type": "markdown",
   "id": "b0892afd",
   "metadata": {},
   "source": [
    "# title 1\n",
    "## title 2\n",
    "### title 3\n",
    "#### title 4\n",
    "##### title 5\n",
    "\n",
    "text\n",
    "\n",
    "+ item 1\n",
    "+ item 2\n",
    "+ item 3\n",
    "    + item 3-1\n",
    "    + item 3-2"
   ]
  },
  {
   "cell_type": "markdown",
   "id": "923b3c3c",
   "metadata": {},
   "source": [
    "print()"
   ]
  },
  {
   "cell_type": "code",
   "execution_count": 4,
   "id": "0bca78f6",
   "metadata": {},
   "outputs": [
    {
     "name": "stdout",
     "output_type": "stream",
     "text": [
      "Hello, World!\n",
      "100\n",
      "3.14\n",
      "My name is HwaRyu\n"
     ]
    }
   ],
   "source": [
    "\"\"\"\n",
    "print(\"Hello, World!\")   주석이라 출력 X\n",
    "\"\"\"\n",
    "\n",
    "print(\"Hello, World!\")   #Hello, World!\n",
    "print(100)               #100\n",
    "pi = 3.14\n",
    "print(pi)                #3.14\n",
    "\n",
    "intro = \"My name is \"\n",
    "name = \"HwaRyu\"\n",
    "\n",
    "print(intro + name)      #My name is HwaRyu"
   ]
  },
  {
   "cell_type": "code",
   "execution_count": null,
   "id": "7b37e1d1",
   "metadata": {},
   "outputs": [],
   "source": []
  }
 ],
 "metadata": {
  "kernelspec": {
   "display_name": "Python 3 (ipykernel)",
   "language": "python",
   "name": "python3"
  },
  "language_info": {
   "codemirror_mode": {
    "name": "ipython",
    "version": 3
   },
   "file_extension": ".py",
   "mimetype": "text/x-python",
   "name": "python",
   "nbconvert_exporter": "python",
   "pygments_lexer": "ipython3",
   "version": "3.9.7"
  }
 },
 "nbformat": 4,
 "nbformat_minor": 5
}

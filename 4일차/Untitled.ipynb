{
 "cells": [
  {
   "cell_type": "markdown",
   "id": "668007e7",
   "metadata": {},
   "source": [
    "# 컬렉션 타입 소개\n",
    "\n",
    "### 값을 바꿀 수 있는 List와 Sets\n",
    "### 값을 바꿀 수 없는 Tuples과 String"
   ]
  },
  {
   "cell_type": "code",
   "execution_count": 7,
   "id": "ecac7f85",
   "metadata": {},
   "outputs": [],
   "source": [
    "coordinate = (3, 4)\n",
    "# coordinate를 Tuples 형식으로 선언. 값은 3과 4"
   ]
  },
  {
   "cell_type": "code",
   "execution_count": 14,
   "id": "f2d86a6d",
   "metadata": {},
   "outputs": [
    {
     "name": "stdout",
     "output_type": "stream",
     "text": [
      "4\n"
     ]
    }
   ],
   "source": [
    "print(coordinate[1])\n",
    "# coordinate 1번 인덱스의 값을 출력"
   ]
  },
  {
   "cell_type": "code",
   "execution_count": 11,
   "id": "fd37761f",
   "metadata": {},
   "outputs": [
    {
     "name": "stdout",
     "output_type": "stream",
     "text": [
      "Hwa Ryu\n"
     ]
    }
   ],
   "source": [
    "name = \"Hwa Ryu\"\n",
    "print(name)\n",
    "# name을 String 형식으로 선언. 값은 Hwa Ryu"
   ]
  },
  {
   "cell_type": "code",
   "execution_count": 13,
   "id": "3091f5ff",
   "metadata": {},
   "outputs": [
    {
     "ename": "TypeError",
     "evalue": "'str' object does not support item assignment",
     "output_type": "error",
     "traceback": [
      "\u001b[1;31m---------------------------------------------------------------------------\u001b[0m",
      "\u001b[1;31mTypeError\u001b[0m                                 Traceback (most recent call last)",
      "Cell \u001b[1;32mIn [13], line 1\u001b[0m\n\u001b[1;32m----> 1\u001b[0m name[\u001b[38;5;241m3\u001b[39m:] \u001b[38;5;241m=\u001b[39m \u001b[38;5;124m\"\u001b[39m\u001b[38;5;124mQoo\u001b[39m\u001b[38;5;124m\"\u001b[39m\n",
      "\u001b[1;31mTypeError\u001b[0m: 'str' object does not support item assignment"
     ]
    }
   ],
   "source": [
    "name[3:] = \"Qoo\"\n",
    "# String 형식이기 때문에 값 변경이 불가능해 오류발생이 맞음"
   ]
  },
  {
   "cell_type": "code",
   "execution_count": 16,
   "id": "c1f67ace",
   "metadata": {},
   "outputs": [
    {
     "name": "stdout",
     "output_type": "stream",
     "text": [
      "['Hwa Ryu', 21, 'Hanshin University', False]\n"
     ]
    }
   ],
   "source": [
    "my_info_list = ['Hwa Ryu', 21, \"Hanshin University\", False]\n",
    "print(my_info_list)\n",
    "# my_info_list를 List 형식로 선언. 값은 이름, 나이, 소속, False\n",
    "# 그리고 내용을 출력"
   ]
  },
  {
   "cell_type": "code",
   "execution_count": 18,
   "id": "7dcb7b71",
   "metadata": {},
   "outputs": [
    {
     "name": "stdout",
     "output_type": "stream",
     "text": [
      "['Qoo', 21, 'Hanshin University', False]\n"
     ]
    }
   ],
   "source": [
    "my_info_list[0] = 'Qoo'\n",
    "print(my_info_list)\n",
    "# my_info_list 0번 인덱스의 값을 Qoo로 변경.\n",
    "# 값이 바뀐 my_info_list를 출력"
   ]
  },
  {
   "cell_type": "code",
   "execution_count": 24,
   "id": "a59f8496",
   "metadata": {},
   "outputs": [
    {
     "name": "stdout",
     "output_type": "stream",
     "text": [
      "['Qoo', 21, 'Hanshin University', 'Goyang-si']\n"
     ]
    }
   ],
   "source": [
    "my_info_list.append('Goyang-si')\n",
    "my_info_list.remove(False)\n",
    "print(my_info_list)\n",
    "# my_info_list에 Goyang-si 라는 값을 추가\n",
    "# my_info_list의 False 라는 값을 삭제"
   ]
  },
  {
   "cell_type": "code",
   "execution_count": 26,
   "id": "920eb772",
   "metadata": {},
   "outputs": [
    {
     "name": "stdout",
     "output_type": "stream",
     "text": [
      "{'Goyang-si', 21, 'Hanshin University', 'Qoo'}\n"
     ]
    }
   ],
   "source": [
    "my_info_set = set(my_info_list)\n",
    "print(my_info_set)\n",
    "# my_info_list의 값들을 my_info_set로 형변환\n",
    "# my_info_set는 Sets형식"
   ]
  },
  {
   "cell_type": "code",
   "execution_count": 28,
   "id": "a33259f2",
   "metadata": {},
   "outputs": [
    {
     "ename": "TypeError",
     "evalue": "'set' object is not subscriptable",
     "output_type": "error",
     "traceback": [
      "\u001b[1;31m---------------------------------------------------------------------------\u001b[0m",
      "\u001b[1;31mTypeError\u001b[0m                                 Traceback (most recent call last)",
      "Cell \u001b[1;32mIn [28], line 1\u001b[0m\n\u001b[1;32m----> 1\u001b[0m \u001b[38;5;28mprint\u001b[39m(\u001b[43mmy_info_set\u001b[49m\u001b[43m[\u001b[49m\u001b[38;5;241;43m2\u001b[39;49m\u001b[43m]\u001b[49m)\n",
      "\u001b[1;31mTypeError\u001b[0m: 'set' object is not subscriptable"
     ]
    }
   ],
   "source": [
    "print(my_info_set[2])\n",
    "# Sets형식은 순서가 없는 데이터들의 모임이기 때문에 n번째를 찾고자 하면 오류가 발생."
   ]
  },
  {
   "cell_type": "code",
   "execution_count": 30,
   "id": "db6c7c65",
   "metadata": {},
   "outputs": [
    {
     "name": "stdout",
     "output_type": "stream",
     "text": [
      "{'name': 'Hanshin University', 'establishment year': 1940, 'public or private': 'private'}\n"
     ]
    }
   ],
   "source": [
    "hsu_dic = {\n",
    "    'name' : 'Hanshin University',\n",
    "    'establishment year' : 1940,\n",
    "    'public or private' : 'private'\n",
    "}\n",
    "print(hsu_dic)\n",
    "# hsu_dic은 dictionaru 형식으로 선언. 이름과 설립일, 국립 사립여부를 저장"
   ]
  },
  {
   "cell_type": "code",
   "execution_count": 33,
   "id": "09edba5b",
   "metadata": {},
   "outputs": [
    {
     "name": "stdout",
     "output_type": "stream",
     "text": [
      "{'name': 'Hanshin University', 'establishment year': 1940, 'public or private': 'private', 'num_of_enrolled': 7588}\n"
     ]
    }
   ],
   "source": [
    "hsu_dic['num_of_enrolled'] = 7588\n",
    "print(hsu_dic)\n",
    "# hsu_dic에 학생수 라는 값을 추가"
   ]
  },
  {
   "cell_type": "code",
   "execution_count": 36,
   "id": "62a51527",
   "metadata": {},
   "outputs": [
    {
     "name": "stdout",
     "output_type": "stream",
     "text": [
      "['HwaRyu', 'Lupes', 'Tetharion']\n"
     ]
    }
   ],
   "source": [
    "char_list = []\n",
    "char_list = ['HwaRyu','Lupes','Tetharion']\n",
    "\n",
    "print(char_list)"
   ]
  },
  {
   "cell_type": "code",
   "execution_count": 38,
   "id": "b36e5f51",
   "metadata": {},
   "outputs": [
    {
     "name": "stdout",
     "output_type": "stream",
     "text": [
      "['name', 21, 3.14, True]\n"
     ]
    }
   ],
   "source": [
    "mixed_list = []\n",
    "mixed_list = ['name', 21, 3.14, True]\n",
    "\n",
    "print(mixed_list)"
   ]
  },
  {
   "cell_type": "code",
   "execution_count": 43,
   "id": "8a31a2b5",
   "metadata": {},
   "outputs": [
    {
     "name": "stdout",
     "output_type": "stream",
     "text": [
      "[[(0, 0), (0, 1)], [(1, 0), (1, 1)]]\n",
      "(1, 1)\n"
     ]
    }
   ],
   "source": [
    "double_list = []\n",
    "double_list = [ [(0,0), (0,1) ], [ (1,0), (1,1)] ]\n",
    "\n",
    "print(double_list)\n",
    "\n",
    "print(double_list[1][1])"
   ]
  },
  {
   "cell_type": "code",
   "execution_count": null,
   "id": "725c5d55",
   "metadata": {},
   "outputs": [],
   "source": []
  }
 ],
 "metadata": {
  "kernelspec": {
   "display_name": "Python 3 (ipykernel)",
   "language": "python",
   "name": "python3"
  },
  "language_info": {
   "codemirror_mode": {
    "name": "ipython",
    "version": 3
   },
   "file_extension": ".py",
   "mimetype": "text/x-python",
   "name": "python",
   "nbconvert_exporter": "python",
   "pygments_lexer": "ipython3",
   "version": "3.9.7"
  }
 },
 "nbformat": 4,
 "nbformat_minor": 5
}
